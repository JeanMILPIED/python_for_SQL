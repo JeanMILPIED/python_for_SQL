{
 "cells": [
  {
   "cell_type": "markdown",
   "metadata": {},
   "source": [
    "## This is a notebook for building dynamic request on SQL survey database in python"
   ]
  },
  {
   "cell_type": "markdown",
   "metadata": {},
   "source": [
    "### Scope statement:  \n",
    "In the Data Wrangling with SQL course, we have seen how we could write stored procedure/functions to build dynamic SQL pivot survey answers data in usable format for analysis in the toy database “SurveySample_A19”.  \n",
    "\n",
    "After a few iterations, we ended up with the following design:\n",
    "1. A stored function dbo.fn_GetAllSurveyDataSQL() which generates and returns a dynamic SQL query string for extracting the pivoted survey answer data.  \n",
    "2. A trigger dbo.trg_refreshSurveyView  \n",
    "a. firing on INSERT, DELETE and UPDATE upon the table dbo.SurveyStructure  \n",
    "b. executing a CREATE OR ALTER VIEW vw_AllSurveyData AS + the string returned by dbo.fn_GetAllSurveyDataSQL  \n",
    "\n",
    "With this design, we have enforced an “always fresh” data policy in the viewvw_AllSurveyData.  \n",
    "As discussed, this solution is “ideal” as it respects the principle of data locality. But it requires to have privileges for creating stored procedures/functions and triggers. If the former may be rare, the latter is often heavily restricted.  \n",
    "\n",
    "You are now in a scenario where the only databases operations allowed are:  \n",
    "1. to select data from tables.  \n",
    "2. to create/alter views.  \n",
    "\n",
    "You can use programmatic access to the database server via an ODBC library and you have to develop in Python 3.  \n",
    "\n",
    "Your Python 3 application must accommodate the following requirements:  \n",
    "1. Gracefully handle the connection to the database server.  \n",
    "2. Replicate the algorithm of the dbo.fn_GetAllSurveyDataSQL stored function.  \n",
    "3. Replicate the algorithm of the trigger dbo.trg_refreshSurveyView for creating/altering the view vw_AllSurveyData whenever applicable.  \n",
    "4. For achieving (3) above, a persistence component (in any format you like: CSV, XML, JSON, etc.), storing the last known surveys’ structures should be in place. It is not acceptable to just recreate the view every time: the trigger behaviour must be replicated.  \n",
    "5. Of course, extract the “always-fresh” pivoted survey data, in a CSV file, adequately named.  \n",
    "\n",
    "In terms of allowed libraries and beyond the recommended pyodbc & pandas, you are free to use anything you like, but with this mandatory requirement: your Python application should not require the user to install packages before the run.  \n",
    "In order to do so, have a look here: https://stackoverflow.com/questions/12332975/installing-python-module-within-code  \n",
    "\n",
    "#### Enjoy the work !"
   ]
  },
  {
   "cell_type": "markdown",
   "metadata": {},
   "source": [
    "#### PART0: managing the proper packages"
   ]
  },
  {
   "cell_type": "code",
   "execution_count": 2,
   "metadata": {},
   "outputs": [],
   "source": [
    "def install():\n",
    "    import importlib\n",
    "    import subprocess\n",
    "    import sys\n",
    "    import os.path\n",
    "    from os import path\n",
    "    global pd, np, pyodbc, path\n",
    "    try:\n",
    "        import pandas as pd\n",
    "        print(\"{0} is correctly imported\".format('pandas'))\n",
    "    except ImportError:\n",
    "        print(\"{0} has to be imported\".format('pandas'))            \n",
    "        subprocess.call([sys.executable, '-m', 'pip', 'install', 'pandas'])\n",
    "    finally:\n",
    "        import pandas as pd\n",
    "        print(\"Pandas- Done\")\n",
    "    try:\n",
    "        import numpy as np\n",
    "        print(\"{0} is correctly imported\".format('numpy'))\n",
    "    except ImportError:\n",
    "        print(\"{0} has to be installeed\".format('numpy'))            \n",
    "        subprocess.call([sys.executable, '-m', 'pip', 'install', 'numpy'])\n",
    "    finally:\n",
    "        import numpy as np\n",
    "        print(\"numpy- Done\")\n",
    "    try:\n",
    "        import pyodbc\n",
    "        print(\"{0} is correctly imported\".format('pyodbc'))\n",
    "    except ImportError:\n",
    "        print(\"{0} has to be installeed\".format('pyodbc'))            \n",
    "        subprocess.call([sys.executable, '-m', 'pip', 'install', 'pyodbc'])\n",
    "    finally:\n",
    "        import pyodbc as pyodbc\n",
    "        print(\"pyodbc- Done\")\n",
    "        \n",
    "    print(\"all environment properly imported\")"
   ]
  },
  {
   "cell_type": "code",
   "execution_count": 3,
   "metadata": {
    "scrolled": true
   },
   "outputs": [
    {
     "name": "stdout",
     "output_type": "stream",
     "text": [
      "pandas is correctly imported\n",
      "Pandas- Done\n",
      "numpy is correctly imported\n",
      "numpy- Done\n",
      "pyodbc is correctly imported\n",
      "pyodbc- Done\n",
      "all environment properly imported\n"
     ]
    }
   ],
   "source": [
    "install()"
   ]
  },
  {
   "cell_type": "markdown",
   "metadata": {},
   "source": [
    "### PART1: connection to database  \n",
    "- first ensure to have loaded the bak file at the right place in mysql server  - DONE\n",
    "- make a function to connect to the database  - DONE\n",
    "- make a function to test the connection is OK - simple error management integrated in the function\n"
   ]
  },
  {
   "cell_type": "code",
   "execution_count": 6,
   "metadata": {},
   "outputs": [],
   "source": [
    "def connect_database(my_server=\"LAPTOP-1NPS6A7O\", my_database=\"Survey_Sample_A19\"):\n",
    "    global sql_conn #we create a global variable for sql connection\n",
    "    #my_string='DRIVER={SQL Server}; SERVER=LAPTOP-1NPS6A7O;DATABASE=Survey_Sample_A19;Trusted_Connection=yes'\n",
    "    my_string='DRIVER={SQL Server}; SERVER='+my_server+';DATABASE='+my_database+';Trusted_Connection=yes'\n",
    "    try:\n",
    "        sql_conn=pyodbc.connect(my_string)\n",
    "        query = 'SELECT * FROM ['+my_database+'].[dbo].[Answer]'\n",
    "        df = pd.read_sql(query, sql_conn)\n",
    "        print(df.head(3))\n",
    "        print(\"connection done\")\n",
    "        return sql_conn\n",
    "    except pyodbc.Error as ex:\n",
    "        sqlstate = ex.args[0]\n",
    "        if sqlstate == '28000':\n",
    "            print(\"LDAP Connection failed: check password\")\n",
    "        else:\n",
    "            print(\"connection failed. Check Server and database\")\n"
   ]
  },
  {
   "cell_type": "code",
   "execution_count": 7,
   "metadata": {
    "scrolled": false
   },
   "outputs": [
    {
     "name": "stdout",
     "output_type": "stream",
     "text": [
      "   QuestionId  SurveyId  UserId  Answer_Value\n",
      "0           1         1      42             3\n",
      "1           1         1     296             5\n",
      "2           1         1    2634             3\n",
      "connection done\n"
     ]
    },
    {
     "data": {
      "text/plain": [
       "<pyodbc.Connection at 0x242cbb71ed0>"
      ]
     },
     "execution_count": 7,
     "metadata": {},
     "output_type": "execute_result"
    }
   ],
   "source": [
    "connect_database()"
   ]
  },
  {
   "cell_type": "markdown",
   "metadata": {},
   "source": [
    "### PART2: Function to get the structure of the survey datafile\n",
    "- objective is to build the structure of the survey in order to build the final sql query on all surveys\n",
    "- build the structure of the request to scan the database for getting its last structure - DONE\n",
    "- create a cursor to fetch the database for which questions are present - DONE\n",
    "- create a function that builds the final structure of the survey database in Id and questions Id and saves it as 'las_survey_structure.csv'- DONE\n",
    "- create a function that checks if a survey_structure file exists, if YES, it imports it, if NO it creates one and "
   ]
  },
  {
   "cell_type": "code",
   "execution_count": 8,
   "metadata": {},
   "outputs": [],
   "source": [
    "#we create the variables for the final queries\n",
    "strQueryTemplateForAnswerColumn = ' COALESCE((SELECT a.Answer_Value FROM Answer as a WHERE a.UserId = u.UserId AND a.SurveyId = <SURVEY_ID> AND a.QuestionId = <QUESTION_ID>), -1) AS ANS_Q<QUESTION_ID> ';\n",
    "strQueryTemplateForNullColumnn = ' NULL AS ANS_Q<QUESTION_ID> '\n",
    "strQueryTemplateOuterUnionQuery = ' SELECT UserId, <SURVEY_ID> as SurveyId, <DYNAMIC_QUESTION_ANSWERS> FROM [User] as u WHERE EXISTS (SELECT * FROM Answer as a WHERE u.UserId = a.UserId AND a.SurveyId = <SURVEY_ID>)'\n",
    "strCurrentUnionQueryBlock = ''\n",
    "strFinalQuery = ''"
   ]
  },
  {
   "cell_type": "code",
   "execution_count": 9,
   "metadata": {},
   "outputs": [
    {
     "data": {
      "text/plain": [
       "' COALESCE((SELECT a.Answer_Value FROM Answer as a WHERE a.UserId = u.UserId AND a.SurveyId = <SURVEY_ID> AND a.QuestionId = <QUESTION_ID>), -1) AS ANS_Q<QUESTION_ID> '"
      ]
     },
     "execution_count": 9,
     "metadata": {},
     "output_type": "execute_result"
    }
   ],
   "source": [
    "strQueryTemplateForAnswerColumn"
   ]
  },
  {
   "cell_type": "code",
   "execution_count": 10,
   "metadata": {},
   "outputs": [
    {
     "name": "stdout",
     "output_type": "stream",
     "text": [
      "(1, )\n",
      "(2, )\n",
      "(3, )\n"
     ]
    }
   ],
   "source": [
    "cursor1=sql_conn.cursor() #we define cursor1 the main cursor to fetch on all Surveys\n",
    "cursor1.execute(\"SELECT SurveyId FROM Survey ORDER BY SurveyId\")\n",
    "for surveyId in cursor1.fetchall():\n",
    "    print (surveyId)"
   ]
  },
  {
   "cell_type": "code",
   "execution_count": 11,
   "metadata": {},
   "outputs": [],
   "source": [
    "# we define the cursor2 to fetch on each survey which of the questions present\n",
    "def my_sq_cursor2(currentSurveyId):\n",
    "    my_string= 'SELECT * FROM ( SELECT SurveyId,QuestionId,1 as InSurvey FROM SurveyStructure WHERE SurveyId ='+str(currentSurveyId)\n",
    "    my_string=my_string+' UNION SELECT '+str(currentSurveyId) +' as SurveyId, Q.QuestionId, 0 as InSurvey FROM Question as Q'\n",
    "    my_string=my_string+' WHERE NOT EXISTS(SELECT * FROM SurveyStructure as S WHERE S.SurveyId = '+str(currentSurveyId)\n",
    "    my_string=my_string+' AND S.QuestionId = Q.QuestionId)) as t ORDER BY QuestionId'\n",
    "    return my_string"
   ]
  },
  {
   "cell_type": "code",
   "execution_count": 12,
   "metadata": {},
   "outputs": [
    {
     "data": {
      "text/plain": [
       "'SELECT * FROM ( SELECT SurveyId,QuestionId,1 as InSurvey FROM SurveyStructure WHERE SurveyId =2 UNION SELECT 2 as SurveyId, Q.QuestionId, 0 as InSurvey FROM Question as Q WHERE NOT EXISTS(SELECT * FROM SurveyStructure as S WHERE S.SurveyId = 2 AND S.QuestionId = Q.QuestionId)) as t ORDER BY QuestionId'"
      ]
     },
     "execution_count": 12,
     "metadata": {},
     "output_type": "execute_result"
    }
   ],
   "source": [
    "my_sq_cursor2(2) #we test it works in writing the structure of the cursor as sql language"
   ]
  },
  {
   "cell_type": "code",
   "execution_count": 13,
   "metadata": {
    "scrolled": true
   },
   "outputs": [
    {
     "name": "stdout",
     "output_type": "stream",
     "text": [
      "2 1 0\n",
      "2 2 1\n",
      "2 3 1\n",
      "2 4 0\n"
     ]
    }
   ],
   "source": [
    "cursor2=sql_conn.cursor()\n",
    "cursor2.execute(my_sq_cursor2(2))\n",
    "for currentSurveyIdInQuestion, currentQuestionID, currentInSurvey in cursor2.fetchall():\n",
    "    print (currentSurveyIdInQuestion, currentQuestionID, currentInSurvey)"
   ]
  },
  {
   "cell_type": "code",
   "execution_count": 14,
   "metadata": {},
   "outputs": [],
   "source": [
    "#let's build a function that reports the survey structure based on cursor fetching\n",
    "def survey_structure(my_sql_connection=sql_conn):\n",
    "    cursor1=my_sql_connection.cursor()\n",
    "    cursor1.execute(\"SELECT SurveyId FROM Survey ORDER BY SurveyId\")\n",
    "    my_final_data=[0,0,0]\n",
    "    for surveyId in cursor1.fetchall():\n",
    "        my_surveyId=surveyId[0]\n",
    "        cursor2=my_sql_connection.cursor()\n",
    "        cursor2.execute(my_sq_cursor2(my_surveyId))\n",
    "        for currentSurveyIdInQuestion, currentQuestionID, currentInSurvey in cursor2.fetchall():\n",
    "            my_data=np.array([currentSurveyIdInQuestion, currentQuestionID, currentInSurvey])\n",
    "            my_final_data=np.vstack((my_final_data,my_data))\n",
    "    my_survey_structure=pd.DataFrame(my_final_data[1:,:])\n",
    "    my_survey_structure.columns=['SurveyId','QuestionID','QuestionInSurvey (1=YES,0=NO)']\n",
    "    my_survey_structure.to_csv('./last_survey_structure.csv', sep=',')\n",
    "    print(\"last_survey_structure.csv created in current directory\")\n",
    "    return my_survey_structure"
   ]
  },
  {
   "cell_type": "code",
   "execution_count": 15,
   "metadata": {
    "scrolled": true
   },
   "outputs": [
    {
     "name": "stdout",
     "output_type": "stream",
     "text": [
      "last_survey_structure.csv created in current directory\n"
     ]
    },
    {
     "data": {
      "text/html": [
       "<div>\n",
       "<style scoped>\n",
       "    .dataframe tbody tr th:only-of-type {\n",
       "        vertical-align: middle;\n",
       "    }\n",
       "\n",
       "    .dataframe tbody tr th {\n",
       "        vertical-align: top;\n",
       "    }\n",
       "\n",
       "    .dataframe thead th {\n",
       "        text-align: right;\n",
       "    }\n",
       "</style>\n",
       "<table border=\"1\" class=\"dataframe\">\n",
       "  <thead>\n",
       "    <tr style=\"text-align: right;\">\n",
       "      <th></th>\n",
       "      <th>SurveyId</th>\n",
       "      <th>QuestionID</th>\n",
       "      <th>QuestionInSurvey (1=YES,0=NO)</th>\n",
       "    </tr>\n",
       "  </thead>\n",
       "  <tbody>\n",
       "    <tr>\n",
       "      <td>0</td>\n",
       "      <td>1</td>\n",
       "      <td>1</td>\n",
       "      <td>1</td>\n",
       "    </tr>\n",
       "    <tr>\n",
       "      <td>1</td>\n",
       "      <td>1</td>\n",
       "      <td>2</td>\n",
       "      <td>1</td>\n",
       "    </tr>\n",
       "    <tr>\n",
       "      <td>2</td>\n",
       "      <td>1</td>\n",
       "      <td>3</td>\n",
       "      <td>0</td>\n",
       "    </tr>\n",
       "    <tr>\n",
       "      <td>3</td>\n",
       "      <td>1</td>\n",
       "      <td>4</td>\n",
       "      <td>0</td>\n",
       "    </tr>\n",
       "    <tr>\n",
       "      <td>4</td>\n",
       "      <td>2</td>\n",
       "      <td>1</td>\n",
       "      <td>0</td>\n",
       "    </tr>\n",
       "    <tr>\n",
       "      <td>5</td>\n",
       "      <td>2</td>\n",
       "      <td>2</td>\n",
       "      <td>1</td>\n",
       "    </tr>\n",
       "    <tr>\n",
       "      <td>6</td>\n",
       "      <td>2</td>\n",
       "      <td>3</td>\n",
       "      <td>1</td>\n",
       "    </tr>\n",
       "    <tr>\n",
       "      <td>7</td>\n",
       "      <td>2</td>\n",
       "      <td>4</td>\n",
       "      <td>0</td>\n",
       "    </tr>\n",
       "    <tr>\n",
       "      <td>8</td>\n",
       "      <td>3</td>\n",
       "      <td>1</td>\n",
       "      <td>0</td>\n",
       "    </tr>\n",
       "    <tr>\n",
       "      <td>9</td>\n",
       "      <td>3</td>\n",
       "      <td>2</td>\n",
       "      <td>0</td>\n",
       "    </tr>\n",
       "    <tr>\n",
       "      <td>10</td>\n",
       "      <td>3</td>\n",
       "      <td>3</td>\n",
       "      <td>0</td>\n",
       "    </tr>\n",
       "    <tr>\n",
       "      <td>11</td>\n",
       "      <td>3</td>\n",
       "      <td>4</td>\n",
       "      <td>0</td>\n",
       "    </tr>\n",
       "  </tbody>\n",
       "</table>\n",
       "</div>"
      ],
      "text/plain": [
       "    SurveyId  QuestionID  QuestionInSurvey (1=YES,0=NO)\n",
       "0          1           1                              1\n",
       "1          1           2                              1\n",
       "2          1           3                              0\n",
       "3          1           4                              0\n",
       "4          2           1                              0\n",
       "5          2           2                              1\n",
       "6          2           3                              1\n",
       "7          2           4                              0\n",
       "8          3           1                              0\n",
       "9          3           2                              0\n",
       "10         3           3                              0\n",
       "11         3           4                              0"
      ]
     },
     "execution_count": 15,
     "metadata": {},
     "output_type": "execute_result"
    }
   ],
   "source": [
    "survey_structure()"
   ]
  },
  {
   "cell_type": "markdown",
   "metadata": {},
   "source": [
    "### PART3: Build in an iterative process the final query based on the survey structure input\n",
    "- build independent functions for each part of the Query - DONE\n",
    "- assemble together in a loop with number of surveys and number of questions as inputs - DONE\n",
    "- create a function which has the survey structure as input - DONE"
   ]
  },
  {
   "cell_type": "code",
   "execution_count": 16,
   "metadata": {},
   "outputs": [],
   "source": [
    "# we know look at each questions for each survey and collect the data with proper queries built\n",
    "def build_strColumnsQueryPart(currentQuestionID, currentInSurvey):\n",
    "    if currentInSurvey == 0 :#CURRENT QUESTION IS NOT IN THE CURRENT SURVEY\n",
    "        strColumnsQueryPart = strQueryTemplateForNullColumnn.replace('<QUESTION_ID>',str(currentQuestionID))\n",
    "    else:\n",
    "        strColumnsQueryPart =strQueryTemplateForAnswerColumn.replace('<QUESTION_ID>',str(currentQuestionID))\n",
    "    return str(strColumnsQueryPart)"
   ]
  },
  {
   "cell_type": "code",
   "execution_count": 17,
   "metadata": {},
   "outputs": [
    {
     "data": {
      "text/plain": [
       "' COALESCE((SELECT a.Answer_Value FROM Answer as a WHERE a.UserId = u.UserId AND a.SurveyId = <SURVEY_ID> AND a.QuestionId = 1), -1) AS ANS_Q1 '"
      ]
     },
     "execution_count": 17,
     "metadata": {},
     "output_type": "execute_result"
    }
   ],
   "source": [
    "build_strColumnsQueryPart(1,1)"
   ]
  },
  {
   "cell_type": "code",
   "execution_count": 18,
   "metadata": {},
   "outputs": [],
   "source": [
    "# we build a function that will be used to do string replacement in the query blocks of the surveys\n",
    "def build_strCurrentUnionQueryBlock(strQueryTemplateOuterUnionQuery,currentSurveyId,strColumnsQueryPart):\n",
    "    strCurrentUnionQueryBlock=strQueryTemplateOuterUnionQuery.replace('<DYNAMIC_QUESTION_ANSWERS>', str(strColumnsQueryPart))\n",
    "    strCurrentUnionQueryBlock=strCurrentUnionQueryBlock.replace('<SURVEY_ID>', str(currentSurveyId))\n",
    "    return str(strCurrentUnionQueryBlock)"
   ]
  },
  {
   "cell_type": "code",
   "execution_count": 19,
   "metadata": {},
   "outputs": [
    {
     "data": {
      "text/plain": [
       "' SELECT UserId, 1 as SurveyId,  COALESCE((SELECT a.Answer_Value FROM Answer as a WHERE a.UserId = u.UserId AND a.SurveyId = 1 AND a.QuestionId = 1), -1) AS ANS_Q1  FROM [User] as u WHERE EXISTS (SELECT * FROM Answer as a WHERE u.UserId = a.UserId AND a.SurveyId = 1)'"
      ]
     },
     "execution_count": 19,
     "metadata": {},
     "output_type": "execute_result"
    }
   ],
   "source": [
    "build_strCurrentUnionQueryBlock(strQueryTemplateOuterUnionQuery,1,build_strColumnsQueryPart(1,1))"
   ]
  },
  {
   "cell_type": "code",
   "execution_count": 20,
   "metadata": {},
   "outputs": [],
   "source": [
    "#iterative function to build the final query\n",
    "def build_final_query(my_survey_structure):\n",
    "    question_id_list=my_survey_structure['QuestionID'].unique()\n",
    "    max_question=np.max(question_id_list)\n",
    "    survey_id_list=my_survey_structure['SurveyId'].unique()\n",
    "    max_survey=np.max(survey_id_list)\n",
    "    strFinalQuery=''\n",
    "    for my_survey_id in survey_id_list:\n",
    "        my_string_1=''\n",
    "        for my_question_id in question_id_list:\n",
    "            my_currentInSurvey=my_survey_structure[(my_survey_structure['SurveyId']==my_survey_id)&(my_survey_structure['QuestionID']==my_question_id)].iloc[:,2].values\n",
    "            my_string_1=my_string_1+build_strColumnsQueryPart(my_question_id,my_currentInSurvey)\n",
    "            if my_question_id <max_question:\n",
    "                my_string_1=my_string_1 + ' , '\n",
    "            else:\n",
    "                my_string_1=my_string_1\n",
    "        strFinalQuery=strFinalQuery+build_strCurrentUnionQueryBlock(strQueryTemplateOuterUnionQuery,my_survey_id,my_string_1)\n",
    "        if my_survey_id <max_survey:\n",
    "            strFinalQuery=strFinalQuery + ' UNION '\n",
    "        else:\n",
    "            strFinalQuery=strFinalQuery\n",
    "    return strFinalQuery"
   ]
  },
  {
   "cell_type": "code",
   "execution_count": 21,
   "metadata": {
    "scrolled": false
   },
   "outputs": [
    {
     "name": "stdout",
     "output_type": "stream",
     "text": [
      "last_survey_structure.csv created in current directory\n"
     ]
    },
    {
     "data": {
      "text/plain": [
       "' SELECT UserId, 1 as SurveyId,  COALESCE((SELECT a.Answer_Value FROM Answer as a WHERE a.UserId = u.UserId AND a.SurveyId = 1 AND a.QuestionId = 1), -1) AS ANS_Q1  ,  COALESCE((SELECT a.Answer_Value FROM Answer as a WHERE a.UserId = u.UserId AND a.SurveyId = 1 AND a.QuestionId = 2), -1) AS ANS_Q2  ,  NULL AS ANS_Q3  ,  NULL AS ANS_Q4  FROM [User] as u WHERE EXISTS (SELECT * FROM Answer as a WHERE u.UserId = a.UserId AND a.SurveyId = 1) UNION  SELECT UserId, 2 as SurveyId,  NULL AS ANS_Q1  ,  COALESCE((SELECT a.Answer_Value FROM Answer as a WHERE a.UserId = u.UserId AND a.SurveyId = 2 AND a.QuestionId = 2), -1) AS ANS_Q2  ,  COALESCE((SELECT a.Answer_Value FROM Answer as a WHERE a.UserId = u.UserId AND a.SurveyId = 2 AND a.QuestionId = 3), -1) AS ANS_Q3  ,  NULL AS ANS_Q4  FROM [User] as u WHERE EXISTS (SELECT * FROM Answer as a WHERE u.UserId = a.UserId AND a.SurveyId = 2) UNION  SELECT UserId, 3 as SurveyId,  NULL AS ANS_Q1  ,  NULL AS ANS_Q2  ,  NULL AS ANS_Q3  ,  NULL AS ANS_Q4  FROM [User] as u WHERE EXISTS (SELECT * FROM Answer as a WHERE u.UserId = a.UserId AND a.SurveyId = 3)'"
      ]
     },
     "execution_count": 21,
     "metadata": {},
     "output_type": "execute_result"
    }
   ],
   "source": [
    "build_final_query(survey_structure())"
   ]
  },
  {
   "cell_type": "code",
   "execution_count": 22,
   "metadata": {
    "scrolled": true
   },
   "outputs": [
    {
     "name": "stdout",
     "output_type": "stream",
     "text": [
      "last_survey_structure.csv created in current directory\n"
     ]
    }
   ],
   "source": [
    "#let's try to apply the query\n",
    "df = pd.read_sql(build_final_query(survey_structure()), sql_conn)"
   ]
  },
  {
   "cell_type": "code",
   "execution_count": 23,
   "metadata": {},
   "outputs": [
    {
     "data": {
      "text/plain": [
       "(4997, 6)"
      ]
     },
     "execution_count": 23,
     "metadata": {},
     "output_type": "execute_result"
    }
   ],
   "source": [
    "df.shape"
   ]
  },
  {
   "cell_type": "markdown",
   "metadata": {},
   "source": [
    "### PART4: build everything together as a function\n",
    "- check that the survey structure exists before calling it in the build_final_query() function - DONE\n",
    "- import the last_survey_structure.csv before calling the build_final_query() function - DONE\n",
    "- save the final all_survey_answers in a csv - DONE"
   ]
  },
  {
   "cell_type": "code",
   "execution_count": 24,
   "metadata": {},
   "outputs": [],
   "source": [
    "def survey_struct_exists():\n",
    "    if path.exists(\"./last_survey_structure.csv\")==True:\n",
    "        print(\"survey structure exists already \")\n",
    "        my_survey=pd.read_csv(\"./last_survey_structure.csv\",sep=',',index_col=0)\n",
    "    else:\n",
    "        print(\"survey structure being created\")\n",
    "        my_survey=survey_structure()\n",
    "    return my_survey\n",
    "        "
   ]
  },
  {
   "cell_type": "code",
   "execution_count": 25,
   "metadata": {},
   "outputs": [
    {
     "name": "stdout",
     "output_type": "stream",
     "text": [
      "survey structure exists already \n"
     ]
    },
    {
     "data": {
      "text/html": [
       "<div>\n",
       "<style scoped>\n",
       "    .dataframe tbody tr th:only-of-type {\n",
       "        vertical-align: middle;\n",
       "    }\n",
       "\n",
       "    .dataframe tbody tr th {\n",
       "        vertical-align: top;\n",
       "    }\n",
       "\n",
       "    .dataframe thead th {\n",
       "        text-align: right;\n",
       "    }\n",
       "</style>\n",
       "<table border=\"1\" class=\"dataframe\">\n",
       "  <thead>\n",
       "    <tr style=\"text-align: right;\">\n",
       "      <th></th>\n",
       "      <th>SurveyId</th>\n",
       "      <th>QuestionID</th>\n",
       "      <th>QuestionInSurvey (1=YES,0=NO)</th>\n",
       "    </tr>\n",
       "  </thead>\n",
       "  <tbody>\n",
       "    <tr>\n",
       "      <td>0</td>\n",
       "      <td>1</td>\n",
       "      <td>1</td>\n",
       "      <td>1</td>\n",
       "    </tr>\n",
       "    <tr>\n",
       "      <td>1</td>\n",
       "      <td>1</td>\n",
       "      <td>2</td>\n",
       "      <td>1</td>\n",
       "    </tr>\n",
       "    <tr>\n",
       "      <td>2</td>\n",
       "      <td>1</td>\n",
       "      <td>3</td>\n",
       "      <td>0</td>\n",
       "    </tr>\n",
       "    <tr>\n",
       "      <td>3</td>\n",
       "      <td>1</td>\n",
       "      <td>4</td>\n",
       "      <td>0</td>\n",
       "    </tr>\n",
       "    <tr>\n",
       "      <td>4</td>\n",
       "      <td>2</td>\n",
       "      <td>1</td>\n",
       "      <td>0</td>\n",
       "    </tr>\n",
       "    <tr>\n",
       "      <td>5</td>\n",
       "      <td>2</td>\n",
       "      <td>2</td>\n",
       "      <td>1</td>\n",
       "    </tr>\n",
       "    <tr>\n",
       "      <td>6</td>\n",
       "      <td>2</td>\n",
       "      <td>3</td>\n",
       "      <td>1</td>\n",
       "    </tr>\n",
       "    <tr>\n",
       "      <td>7</td>\n",
       "      <td>2</td>\n",
       "      <td>4</td>\n",
       "      <td>0</td>\n",
       "    </tr>\n",
       "    <tr>\n",
       "      <td>8</td>\n",
       "      <td>3</td>\n",
       "      <td>1</td>\n",
       "      <td>0</td>\n",
       "    </tr>\n",
       "    <tr>\n",
       "      <td>9</td>\n",
       "      <td>3</td>\n",
       "      <td>2</td>\n",
       "      <td>0</td>\n",
       "    </tr>\n",
       "    <tr>\n",
       "      <td>10</td>\n",
       "      <td>3</td>\n",
       "      <td>3</td>\n",
       "      <td>0</td>\n",
       "    </tr>\n",
       "    <tr>\n",
       "      <td>11</td>\n",
       "      <td>3</td>\n",
       "      <td>4</td>\n",
       "      <td>0</td>\n",
       "    </tr>\n",
       "  </tbody>\n",
       "</table>\n",
       "</div>"
      ],
      "text/plain": [
       "    SurveyId  QuestionID  QuestionInSurvey (1=YES,0=NO)\n",
       "0          1           1                              1\n",
       "1          1           2                              1\n",
       "2          1           3                              0\n",
       "3          1           4                              0\n",
       "4          2           1                              0\n",
       "5          2           2                              1\n",
       "6          2           3                              1\n",
       "7          2           4                              0\n",
       "8          3           1                              0\n",
       "9          3           2                              0\n",
       "10         3           3                              0\n",
       "11         3           4                              0"
      ]
     },
     "execution_count": 25,
     "metadata": {},
     "output_type": "execute_result"
    }
   ],
   "source": [
    "survey_struct_exists()"
   ]
  },
  {
   "cell_type": "markdown",
   "metadata": {},
   "source": [
    "###### "
   ]
  },
  {
   "cell_type": "code",
   "execution_count": 27,
   "metadata": {},
   "outputs": [],
   "source": [
    "def get_AllSurveyData(my_conn):\n",
    "    my_survey=survey_struct_exists()\n",
    "    my_final_query=build_final_query(my_survey)\n",
    "    df = pd.read_sql(my_final_query, my_conn)\n",
    "    df.to_csv(\"./AllSurveydata.csv\")\n",
    "    return df\n",
    "    "
   ]
  },
  {
   "cell_type": "code",
   "execution_count": 28,
   "metadata": {
    "scrolled": true
   },
   "outputs": [
    {
     "name": "stdout",
     "output_type": "stream",
     "text": [
      "survey structure exists already \n"
     ]
    },
    {
     "data": {
      "text/html": [
       "<div>\n",
       "<style scoped>\n",
       "    .dataframe tbody tr th:only-of-type {\n",
       "        vertical-align: middle;\n",
       "    }\n",
       "\n",
       "    .dataframe tbody tr th {\n",
       "        vertical-align: top;\n",
       "    }\n",
       "\n",
       "    .dataframe thead th {\n",
       "        text-align: right;\n",
       "    }\n",
       "</style>\n",
       "<table border=\"1\" class=\"dataframe\">\n",
       "  <thead>\n",
       "    <tr style=\"text-align: right;\">\n",
       "      <th></th>\n",
       "      <th>UserId</th>\n",
       "      <th>SurveyId</th>\n",
       "      <th>ANS_Q1</th>\n",
       "      <th>ANS_Q2</th>\n",
       "      <th>ANS_Q3</th>\n",
       "      <th>ANS_Q4</th>\n",
       "    </tr>\n",
       "  </thead>\n",
       "  <tbody>\n",
       "    <tr>\n",
       "      <td>0</td>\n",
       "      <td>42</td>\n",
       "      <td>1</td>\n",
       "      <td>3.0</td>\n",
       "      <td>-1.0</td>\n",
       "      <td>NaN</td>\n",
       "      <td>None</td>\n",
       "    </tr>\n",
       "    <tr>\n",
       "      <td>1</td>\n",
       "      <td>296</td>\n",
       "      <td>1</td>\n",
       "      <td>5.0</td>\n",
       "      <td>-1.0</td>\n",
       "      <td>NaN</td>\n",
       "      <td>None</td>\n",
       "    </tr>\n",
       "    <tr>\n",
       "      <td>2</td>\n",
       "      <td>1793</td>\n",
       "      <td>1</td>\n",
       "      <td>-1.0</td>\n",
       "      <td>6.0</td>\n",
       "      <td>NaN</td>\n",
       "      <td>None</td>\n",
       "    </tr>\n",
       "    <tr>\n",
       "      <td>3</td>\n",
       "      <td>2411</td>\n",
       "      <td>1</td>\n",
       "      <td>-1.0</td>\n",
       "      <td>1.0</td>\n",
       "      <td>NaN</td>\n",
       "      <td>None</td>\n",
       "    </tr>\n",
       "    <tr>\n",
       "      <td>4</td>\n",
       "      <td>2634</td>\n",
       "      <td>1</td>\n",
       "      <td>3.0</td>\n",
       "      <td>-1.0</td>\n",
       "      <td>NaN</td>\n",
       "      <td>None</td>\n",
       "    </tr>\n",
       "    <tr>\n",
       "      <td>...</td>\n",
       "      <td>...</td>\n",
       "      <td>...</td>\n",
       "      <td>...</td>\n",
       "      <td>...</td>\n",
       "      <td>...</td>\n",
       "      <td>...</td>\n",
       "    </tr>\n",
       "    <tr>\n",
       "      <td>4992</td>\n",
       "      <td>1019491</td>\n",
       "      <td>3</td>\n",
       "      <td>NaN</td>\n",
       "      <td>NaN</td>\n",
       "      <td>NaN</td>\n",
       "      <td>None</td>\n",
       "    </tr>\n",
       "    <tr>\n",
       "      <td>4993</td>\n",
       "      <td>1020147</td>\n",
       "      <td>3</td>\n",
       "      <td>NaN</td>\n",
       "      <td>NaN</td>\n",
       "      <td>NaN</td>\n",
       "      <td>None</td>\n",
       "    </tr>\n",
       "    <tr>\n",
       "      <td>4994</td>\n",
       "      <td>1021182</td>\n",
       "      <td>3</td>\n",
       "      <td>NaN</td>\n",
       "      <td>NaN</td>\n",
       "      <td>NaN</td>\n",
       "      <td>None</td>\n",
       "    </tr>\n",
       "    <tr>\n",
       "      <td>4995</td>\n",
       "      <td>1021328</td>\n",
       "      <td>3</td>\n",
       "      <td>NaN</td>\n",
       "      <td>NaN</td>\n",
       "      <td>NaN</td>\n",
       "      <td>None</td>\n",
       "    </tr>\n",
       "    <tr>\n",
       "      <td>4996</td>\n",
       "      <td>1021749</td>\n",
       "      <td>3</td>\n",
       "      <td>NaN</td>\n",
       "      <td>NaN</td>\n",
       "      <td>NaN</td>\n",
       "      <td>None</td>\n",
       "    </tr>\n",
       "  </tbody>\n",
       "</table>\n",
       "<p>4997 rows × 6 columns</p>\n",
       "</div>"
      ],
      "text/plain": [
       "       UserId  SurveyId  ANS_Q1  ANS_Q2  ANS_Q3 ANS_Q4\n",
       "0          42         1     3.0    -1.0     NaN   None\n",
       "1         296         1     5.0    -1.0     NaN   None\n",
       "2        1793         1    -1.0     6.0     NaN   None\n",
       "3        2411         1    -1.0     1.0     NaN   None\n",
       "4        2634         1     3.0    -1.0     NaN   None\n",
       "...       ...       ...     ...     ...     ...    ...\n",
       "4992  1019491         3     NaN     NaN     NaN   None\n",
       "4993  1020147         3     NaN     NaN     NaN   None\n",
       "4994  1021182         3     NaN     NaN     NaN   None\n",
       "4995  1021328         3     NaN     NaN     NaN   None\n",
       "4996  1021749         3     NaN     NaN     NaN   None\n",
       "\n",
       "[4997 rows x 6 columns]"
      ]
     },
     "execution_count": 28,
     "metadata": {},
     "output_type": "execute_result"
    }
   ],
   "source": [
    "get_AllSurveyData(sql_conn)"
   ]
  },
  {
   "cell_type": "markdown",
   "metadata": {},
   "source": [
    "### Part5: now that it works, make it a python script independent\n",
    "- built as a main function that integrates subfonctions - done\n",
    "- all sub fonctions coded in same code - done\n",
    "- we save the query as a text file; if survey structure has not changed it uses it, otherwise it builds a new one,\n",
    "- proper documentation with comments and parameters quotes - almost done\n",
    "- exceptions and errors management"
   ]
  },
  {
   "cell_type": "code",
   "execution_count": 5,
   "metadata": {
    "scrolled": true
   },
   "outputs": [
    {
     "name": "stdout",
     "output_type": "stream",
     "text": [
      "what is the server name ? LAPTOP-1NPS6A7O\n",
      "what is the database name ? Survey_Sample_A19\n",
      "This is main function running\n",
      "all environment properly constructed\n",
      "connection succeeded.\n",
      "survey structure exists already. let's check if it has changed.\n",
      "the survey structure has changed. We build, save and overwrite the old one.\n",
      "last_survey_structure.csv properly created in current directory\n",
      "final query saved as 'my_query.txt' in working directory\n",
      "database sample hereunder\n",
      "   UserId  SurveyId  ANS_Q1  ANS_Q2  ANS_Q3 ANS_Q4\n",
      "0      42         1     3.0    -1.0     NaN   None\n",
      "1     296         1     5.0    -1.0     NaN   None\n",
      "2    1793         1    -1.0     6.0     NaN   None\n",
      "job done. 'AllSurveydata.csv' saved in working directory\n"
     ]
    }
   ],
   "source": [
    "#this function checks that user has proper installed and imported packages in its environment\n",
    "def check_install():\n",
    "    import importlib\n",
    "    import subprocess\n",
    "    import sys\n",
    "    import os.path\n",
    "    from os import path\n",
    "    global pd, np, pyodbc, path, sys\n",
    "    try:\n",
    "        import pandas as pd\n",
    "    except ImportError:\n",
    "        print(\"{0} has to be installed\".format('pandas'))            \n",
    "        subprocess.call([sys.executable, '-m', 'pip', 'install', 'pandas'])\n",
    "    finally:\n",
    "        import pandas as pd\n",
    "    try:\n",
    "        import numpy as np\n",
    "    except ImportError:\n",
    "        print(\"{0} has to be installed\".format('numpy'))            \n",
    "        subprocess.call([sys.executable, '-m', 'pip', 'install', 'numpy'])\n",
    "    finally:\n",
    "        import numpy as np\n",
    "    try:\n",
    "        import pyodbc\n",
    "    except ImportError:\n",
    "        print(\"{0} has to be installed\".format('pyodbc'))            \n",
    "        subprocess.call([sys.executable, '-m', 'pip', 'install', 'pyodbc'])\n",
    "    finally:\n",
    "        import pyodbc as pyodbc    \n",
    "    print(\"all environment properly constructed\")\n",
    "\n",
    "#this function connects to the database and manages connection errors    \n",
    "def connect_database(my_server=\"LAPTOP-1NPS6A7O\", my_database=\"Survey_Sample_A19\"):\n",
    "    global sql_conn #we create a global variable for sql connection\n",
    "    #my_string='DRIVER={SQL Server}; SERVER=LAPTOP-1NPS6A7O;DATABASE=Survey_Sample_A19;Trusted_Connection=yes'\n",
    "    my_string='DRIVER={SQL Server}; SERVER='+my_server+';DATABASE='+my_database+';Trusted_Connection=yes'\n",
    "    try:\n",
    "        sql_conn=pyodbc.connect(my_string)\n",
    "        print(\"connection succeeded.\")\n",
    "        return sql_conn\n",
    "    except pyodbc.Error as ex:\n",
    "        sqlstate = ex.args[0]\n",
    "        if sqlstate == '28000':\n",
    "            print(\"LDAP Connection failed: check password\")\n",
    "        else:\n",
    "            print(\"connection failed. error is {0} \".format(str(ex.args)))\n",
    "        sys.exit('database connection issue') #if no connection possible, we stop the program\n",
    "\n",
    "# this function defines a SQL command string to be used in cursor2 to fetch on each survey ID which of the questions are present\n",
    "def my_sq_cursor2(currentSurveyId):\n",
    "    my_string= 'SELECT * FROM ( SELECT SurveyId,QuestionId,1 as InSurvey FROM SurveyStructure WHERE SurveyId ='+str(currentSurveyId)\n",
    "    my_string=my_string+' UNION SELECT '+str(currentSurveyId) +' as SurveyId, Q.QuestionId, 0 as InSurvey FROM Question as Q'\n",
    "    my_string=my_string+' WHERE NOT EXISTS(SELECT * FROM SurveyStructure as S WHERE S.SurveyId = '+str(currentSurveyId)\n",
    "    my_string=my_string+' AND S.QuestionId = Q.QuestionId)) as t ORDER BY QuestionId'\n",
    "    return my_string\n",
    "\n",
    "#this function reports the survey structure based on cursor fetching on the SQL survey database\n",
    "def survey_structure(my_sql_connection):\n",
    "    cursor1=my_sql_connection.cursor()\n",
    "    cursor1.execute(\"SELECT SurveyId FROM Survey ORDER BY SurveyId\")\n",
    "    my_final_data=[0,0,0]\n",
    "    for surveyId in cursor1.fetchall():\n",
    "        my_surveyId=surveyId[0]\n",
    "        cursor2=my_sql_connection.cursor()\n",
    "        cursor2.execute(my_sq_cursor2(my_surveyId))\n",
    "        for currentSurveyIdInQuestion, currentQuestionID, currentInSurvey in cursor2.fetchall():\n",
    "            my_data=np.array([currentSurveyIdInQuestion, currentQuestionID, currentInSurvey])\n",
    "            my_final_data=np.vstack((my_final_data,my_data))\n",
    "    my_survey_structure=pd.DataFrame(my_final_data[1:,:]).astype(int)\n",
    "    my_survey_structure.columns=['SurveyId','QuestionID','QuestionInSurvey (1=YES,0=NO)']\n",
    "    return my_survey_structure\n",
    "\n",
    "# this function builds the SQL string to check questions for each survey and collect the respose data\n",
    "def build_strColumnsQueryPart(currentQuestionID, currentInSurvey):\n",
    "    strQueryTemplateForAnswerColumn = ' COALESCE((SELECT a.Answer_Value FROM Answer as a WHERE a.UserId = u.UserId AND a.SurveyId = <SURVEY_ID> AND a.QuestionId = <QUESTION_ID>), -1) AS ANS_Q<QUESTION_ID> ';\n",
    "    strQueryTemplateForNullColumnn = ' NULL AS ANS_Q<QUESTION_ID> '\n",
    "    if currentInSurvey == 0 :#CURRENT QUESTION IS NOT IN THE CURRENT SURVEY\n",
    "        strColumnsQueryPart = strQueryTemplateForNullColumnn.replace('<QUESTION_ID>',str(currentQuestionID))\n",
    "    else:\n",
    "        strColumnsQueryPart =strQueryTemplateForAnswerColumn.replace('<QUESTION_ID>',str(currentQuestionID))\n",
    "    return str(strColumnsQueryPart)\n",
    "\n",
    "# this function unions the independent queries built for each survey with the build_strColumnsQueryPart() function\n",
    "def build_strCurrentUnionQueryBlock(currentSurveyId,strColumnsQueryPart):\n",
    "    strQueryTemplateOuterUnionQuery = ' SELECT UserId, <SURVEY_ID> as SurveyId, <DYNAMIC_QUESTION_ANSWERS> FROM [User] as u WHERE EXISTS (SELECT * FROM Answer as a WHERE u.UserId = a.UserId AND a.SurveyId = <SURVEY_ID>)'\n",
    "    strCurrentUnionQueryBlock = ''\n",
    "    strCurrentUnionQueryBlock=strQueryTemplateOuterUnionQuery.replace('<DYNAMIC_QUESTION_ANSWERS>', str(strColumnsQueryPart))\n",
    "    strCurrentUnionQueryBlock=strCurrentUnionQueryBlock.replace('<SURVEY_ID>', str(currentSurveyId))\n",
    "    return str(strCurrentUnionQueryBlock)\n",
    "\n",
    "#this function iterates over the survey structure to build the final query using subfonctions\n",
    "#build_strColumnsQueryPart() and build_strCurrentUnionQueryBlock()\n",
    "def build_final_query(my_survey_structure):\n",
    "    question_id_list=my_survey_structure['QuestionID'].unique()\n",
    "    max_question=np.max(question_id_list)\n",
    "    survey_id_list=my_survey_structure['SurveyId'].unique()\n",
    "    max_survey=np.max(survey_id_list)\n",
    "    strFinalQuery=''\n",
    "    for my_survey_id in survey_id_list:\n",
    "        my_string_1=''\n",
    "        for my_question_id in question_id_list:\n",
    "            my_currentInSurvey=my_survey_structure[(my_survey_structure['SurveyId']==my_survey_id)&(my_survey_structure['QuestionID']==my_question_id)].iloc[:,2].values\n",
    "            my_string_1=my_string_1+build_strColumnsQueryPart(my_question_id,my_currentInSurvey)\n",
    "            if my_question_id <max_question:\n",
    "                my_string_1=my_string_1 + ' , '\n",
    "            else:\n",
    "                my_string_1=my_string_1\n",
    "        strFinalQuery=strFinalQuery+build_strCurrentUnionQueryBlock(my_survey_id,my_string_1)\n",
    "        if my_survey_id <max_survey:\n",
    "            strFinalQuery=strFinalQuery + ' UNION '\n",
    "        else:\n",
    "            strFinalQuery=strFinalQuery\n",
    "    #we save the final Query in a .txt file\n",
    "    try:\n",
    "        with open('./my_query.txt', 'w') as f:\n",
    "            f.write(strFinalQuery)\n",
    "        print(\"final query saved as 'my_query.txt' in working directory\")\n",
    "    except:\n",
    "        sys.exit(\"error occured in disk saving final query\")\n",
    "\n",
    "\n",
    "#this function checks that a survey structure has already been stored in the working directory and returns it\n",
    "# if no survey_structure file exists, it creates and returns it\n",
    "def survey_struct_exists(my_sql_connection):\n",
    "    my_output=1\n",
    "    my_new_survey=survey_structure(my_sql_connection)\n",
    "    if path.exists(\"./last_survey_structure.csv\")==True:\n",
    "        print(\"survey structure exists already. let's check if it has changed.\")\n",
    "        my_old_survey=pd.read_csv(\"./last_survey_structure.csv\",sep=',',index_col=0).astype(int)\n",
    "        if my_new_survey.equals(my_old_survey)==True:\n",
    "            print(\"the survey structure has not changed\")\n",
    "            my_output=1\n",
    "        else:\n",
    "            print(\"the survey structure has changed. We build, save and overwrite the old one.\")\n",
    "            my_output=0\n",
    "            my_new_survey.to_csv('./last_survey_structure.csv', sep=',')\n",
    "            print(\"last_survey_structure.csv properly created in current directory\")\n",
    "    else:\n",
    "        print(\"there is no survey structure file saved. We have created it\")\n",
    "        my_new_survey.to_csv('./last_survey_structure.csv', sep=',')\n",
    "        my_output=0\n",
    "        \n",
    "    #then we get or build the final query depending if the survey structure has changed\n",
    "    if my_output == 0:\n",
    "        build_final_query(my_new_survey) #we build final query\n",
    "        with open('./my_query.txt', 'r') as file:\n",
    "            my_final_query = file.read().replace('\\n', '')   \n",
    "    else:\n",
    "        with open('./my_query.txt', 'r') as file:\n",
    "            my_final_query = file.read().replace('\\n', '')     \n",
    "    return my_final_query\n",
    "\n",
    "def main(my_Server,my_Database):\n",
    "    print(\"This is main function running\")\n",
    "    #first we check the packages installed\n",
    "    check_install()\n",
    "    \n",
    "    #second, we connect to database\n",
    "    my_conn=connect_database(my_Server, my_Database)\n",
    "    \n",
    "    #third, we check survey structure and get final query (new built or already existing)\n",
    "    my_final_query=survey_struct_exists(my_conn)\n",
    "    \n",
    "    #then we make the sql query to get the All survey data and save them on \"AllSurveydata.csv\" file in working directory\n",
    "    df = pd.read_sql(my_final_query, my_conn)\n",
    "    df.to_csv(\"./AllSurveydata.csv\")\n",
    "    print(\"database sample hereunder\")\n",
    "    print(df.head(3))\n",
    "    \n",
    "    print(\"job done. 'AllSurveydata.csv' saved in working directory\")\n",
    "\n",
    "if __name__ == '__main__':\n",
    "    theServer=input(\"what is the server name ? \")\n",
    "    theDatabase=input(\"what is the database name ? \")\n",
    "    main(theServer,theDatabase)"
   ]
  },
  {
   "cell_type": "code",
   "execution_count": null,
   "metadata": {},
   "outputs": [],
   "source": []
  }
 ],
 "metadata": {
  "kernelspec": {
   "display_name": "Python 3",
   "language": "python",
   "name": "python3"
  }
 },
 "nbformat": 4,
 "nbformat_minor": 2
}
